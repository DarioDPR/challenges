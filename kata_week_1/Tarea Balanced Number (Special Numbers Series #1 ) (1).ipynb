{
 "cells": [
  {
   "cell_type": "code",
   "execution_count": 82,
   "id": "ab2304f0",
   "metadata": {},
   "outputs": [],
   "source": [
    "number = 4004"
   ]
  },
  {
   "cell_type": "code",
   "execution_count": 83,
   "id": "6f602509",
   "metadata": {},
   "outputs": [
    {
     "data": {
      "text/plain": [
       "4"
      ]
     },
     "execution_count": 83,
     "metadata": {},
     "output_type": "execute_result"
    }
   ],
   "source": [
    "len(str(number))"
   ]
  },
  {
   "cell_type": "code",
   "execution_count": 84,
   "id": "fd4ef527",
   "metadata": {},
   "outputs": [],
   "source": [
    "string_num = str(number)"
   ]
  },
  {
   "cell_type": "code",
   "execution_count": 85,
   "id": "4181f597",
   "metadata": {},
   "outputs": [
    {
     "data": {
      "text/plain": [
       "1"
      ]
     },
     "execution_count": 85,
     "metadata": {},
     "output_type": "execute_result"
    }
   ],
   "source": [
    "len_str = len(string_num) /2\n",
    "len_str = len_str -1\n",
    "len_str = int(len_str)\n",
    "len_str"
   ]
  },
  {
   "cell_type": "code",
   "execution_count": 86,
   "id": "5c662f7f",
   "metadata": {},
   "outputs": [
    {
     "data": {
      "text/plain": [
       "'4'"
      ]
     },
     "execution_count": 86,
     "metadata": {},
     "output_type": "execute_result"
    }
   ],
   "source": [
    "string_izq = string_num[:len_str]\n",
    "string_izq"
   ]
  },
  {
   "cell_type": "code",
   "execution_count": 87,
   "id": "beca144a",
   "metadata": {},
   "outputs": [
    {
     "data": {
      "text/plain": [
       "'4'"
      ]
     },
     "execution_count": 87,
     "metadata": {},
     "output_type": "execute_result"
    }
   ],
   "source": [
    "string_dcha = string_num[len_str + 2:]\n",
    "string_dcha"
   ]
  },
  {
   "cell_type": "code",
   "execution_count": 88,
   "id": "91af1c3f",
   "metadata": {},
   "outputs": [
    {
     "name": "stdout",
     "output_type": "stream",
     "text": [
      "Balanced\n"
     ]
    }
   ],
   "source": [
    "if string_dcha == string_izq:\n",
    "    print (\"Balanced\")\n",
    "else:\n",
    "    print (\"Not Balanced\")"
   ]
  },
  {
   "cell_type": "code",
   "execution_count": null,
   "id": "3ff5ca27",
   "metadata": {},
   "outputs": [],
   "source": []
  }
 ],
 "metadata": {
  "kernelspec": {
   "display_name": "Python 3 (ipykernel)",
   "language": "python",
   "name": "python3"
  },
  "language_info": {
   "codemirror_mode": {
    "name": "ipython",
    "version": 3
   },
   "file_extension": ".py",
   "mimetype": "text/x-python",
   "name": "python",
   "nbconvert_exporter": "python",
   "pygments_lexer": "ipython3",
   "version": "3.7.11"
  }
 },
 "nbformat": 4,
 "nbformat_minor": 5
}
