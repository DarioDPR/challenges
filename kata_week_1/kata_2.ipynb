{
 "cells": [
  {
   "cell_type": "code",
   "execution_count": null,
   "id": "48a699cf",
   "metadata": {},
   "outputs": [],
   "source": [
    "#ordenar lista menor a mayor\n",
    "#sumar de los (n) primeros numeros \n",
    "#producto de los n últimos números de a lista\n",
    "#compara suma y numero y devolver resultado"
   ]
  },
  {
   "cell_type": "code",
   "execution_count": 102,
   "id": "598545b0",
   "metadata": {},
   "outputs": [],
   "source": [
    "array = [10, 20, 3, 30, 5, 4]"
   ]
  },
  {
   "cell_type": "code",
   "execution_count": 103,
   "id": "48eef68a",
   "metadata": {},
   "outputs": [],
   "source": [
    "n = 3"
   ]
  },
  {
   "cell_type": "code",
   "execution_count": 104,
   "id": "e2f10958",
   "metadata": {},
   "outputs": [],
   "source": [
    "array.sort()"
   ]
  },
  {
   "cell_type": "code",
   "execution_count": 105,
   "id": "536690f4",
   "metadata": {},
   "outputs": [
    {
     "name": "stdout",
     "output_type": "stream",
     "text": [
      "[3, 4, 5, 10, 20, 30]\n"
     ]
    }
   ],
   "source": [
    "print(array)"
   ]
  },
  {
   "cell_type": "code",
   "execution_count": 106,
   "id": "fe3b0194",
   "metadata": {},
   "outputs": [
    {
     "data": {
      "text/plain": [
       "[3, 4, 5]"
      ]
     },
     "execution_count": 106,
     "metadata": {},
     "output_type": "execute_result"
    }
   ],
   "source": [
    "array[:n]"
   ]
  },
  {
   "cell_type": "code",
   "execution_count": 107,
   "id": "93bcea33",
   "metadata": {},
   "outputs": [
    {
     "data": {
      "text/plain": [
       "[10, 20, 30]"
      ]
     },
     "execution_count": 107,
     "metadata": {},
     "output_type": "execute_result"
    }
   ],
   "source": [
    "array [-n:]"
   ]
  },
  {
   "cell_type": "code",
   "execution_count": 108,
   "id": "1a8198ca",
   "metadata": {},
   "outputs": [
    {
     "data": {
      "text/plain": [
       "60"
      ]
     },
     "execution_count": 108,
     "metadata": {},
     "output_type": "execute_result"
    }
   ],
   "source": [
    "sum (array[-n:])"
   ]
  },
  {
   "cell_type": "code",
   "execution_count": 109,
   "id": "bc7b2e63",
   "metadata": {},
   "outputs": [],
   "source": [
    "bigsum=sum (array[-n:])"
   ]
  },
  {
   "cell_type": "code",
   "execution_count": 110,
   "id": "bdba5219",
   "metadata": {},
   "outputs": [],
   "source": [
    "import numpy as np"
   ]
  },
  {
   "cell_type": "code",
   "execution_count": 111,
   "id": "92b0e1ca",
   "metadata": {},
   "outputs": [
    {
     "data": {
      "text/plain": [
       "60"
      ]
     },
     "execution_count": 111,
     "metadata": {},
     "output_type": "execute_result"
    }
   ],
   "source": [
    "np.prod(array[:n])"
   ]
  },
  {
   "cell_type": "code",
   "execution_count": 112,
   "id": "45d3682f",
   "metadata": {},
   "outputs": [],
   "source": [
    "smallproduct=np.prod(array[:n])"
   ]
  },
  {
   "cell_type": "code",
   "execution_count": 113,
   "id": "aedb1b78",
   "metadata": {},
   "outputs": [
    {
     "name": "stdout",
     "output_type": "stream",
     "text": [
      "same\n"
     ]
    }
   ],
   "source": [
    "if smallproduct == bigsum:\n",
    "    print ('same')\n",
    "elif smallproduct > bigsum:\n",
    "    print ('product')\n",
    "elif bigsum > smallproduct:\n",
    "    print ('sum')"
   ]
  },
  {
   "cell_type": "code",
   "execution_count": null,
   "id": "e18c85e0",
   "metadata": {},
   "outputs": [],
   "source": []
  }
 ],
 "metadata": {
  "kernelspec": {
   "display_name": "Python [conda env:ironhack]",
   "language": "python",
   "name": "conda-env-ironhack-py"
  },
  "language_info": {
   "codemirror_mode": {
    "name": "ipython",
    "version": 3
   },
   "file_extension": ".py",
   "mimetype": "text/x-python",
   "name": "python",
   "nbconvert_exporter": "python",
   "pygments_lexer": "ipython3",
   "version": "3.7.11"
  }
 },
 "nbformat": 4,
 "nbformat_minor": 5
}
